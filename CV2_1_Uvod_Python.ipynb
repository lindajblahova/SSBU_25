{
 "cells": [
  {
   "metadata": {},
   "cell_type": "markdown",
   "source": [
    "# SSBU CV2: Úvod do Pythonu\n",
    "\n",
    "## Python\n",
    "Python je vysokoúrovňový programovací jazyk, ktorý je:\n",
    "- Interpretovaný (nevytvára spustiteľný kód),\n",
    "- Objektovo-orientovaný,\n",
    "- Freeware a open source,\n",
    "- Dynamicky typovaný,\n",
    "- Rozsiahly na knižnice, najmä na spracovanie a vizualizáciu údajov, štatistiku a strojové učenie.\n",
    "\n",
    "---\n",
    "\n",
    "## **1. Základná syntax**\n",
    "### Kľúčové vlastnosti:\n",
    "- Kód sa oddeľuje **odsadením (indentáciou - tab)** (nie zátvorkami ako v C/C++).\n",
    "- Premenné sa **nemusia vytvárať s definovaním dátového typu** – Python ho priradí automaticky a môže sa dynamicky meniť.\n",
    "- Na výpis na konzolu používame **funkciu `print()`** - [Dokumentácia print()](https://docs.python.org/3/library/functions.html#print).\n",
    "\n",
    "**Príklad:**"
   ],
   "id": "c3a1164f4eb0df39"
  },
  {
   "metadata": {},
   "cell_type": "code",
   "outputs": [],
   "execution_count": null,
   "source": "print(\"Hello, World!\")\n",
   "id": "8d09f725e5a9e808"
  },
  {
   "metadata": {},
   "cell_type": "markdown",
   "source": "**Úloha na precvičenie:** Napíšte príkaz, ktorý vypíše vaše meno a vek.",
   "id": "902a75872da8535c"
  },
  {
   "metadata": {},
   "cell_type": "code",
   "outputs": [],
   "execution_count": null,
   "source": "print(\"John 25\")",
   "id": "2859dedd4fcedd32"
  },
  {
   "metadata": {},
   "cell_type": "markdown",
   "source": [
    "---\n",
    "\n",
    "## **2. Dátové typy a premenné**\n",
    "### Základné dátové typy v Pythone:\n",
    "- Vstavané dátové typy a operácie: [Dokumentácia Built-in Types](https://docs.python.org/3/library/stdtypes.html)\n",
    "- **Textové:** `str`\n",
    "- **Číselné:** `int`, `float`, `complex`\n",
    "- **Sekvenčné:** `list`, `tuple`, `range`\n",
    "- **Mapovacie:** `dict`\n",
    "- **Množinové:** `set`, `frozenset`\n",
    "- **Booleovské:** `bool`\n",
    "- **Binárne:** `bytes`, `bytearray`, `memoryview`\n",
    "- **None:** `NoneType` (None objekt - neobsahuje hodnotu) - [Dokumentácia NoneType](https://docs.python.org/3/library/constants.html#None)\n",
    "\n",
    "+ dalšie - [Dokumentácia Python Data Types](https://docs.python.org/3/library/datatypes.html)\n",
    "\n",
    "+ zistenie typu premennej - funkcia type - [Dokumentácia type](https://docs.python.org/3/library/functions.html#type)\n",
    "\n",
    "**Príklad:**"
   ],
   "id": "632690952efdd0e3"
  },
  {
   "metadata": {},
   "cell_type": "code",
   "outputs": [],
   "execution_count": null,
   "source": [
    "name = \"John\"\n",
    "age = 25\n",
    "height = 6.2\n",
    "is_student = False\n",
    "print(type(name), type(age), type(height), type(is_student))"
   ],
   "id": "ea3afc610f47e266"
  },
  {
   "metadata": {},
   "cell_type": "markdown",
   "source": "**Úloha:** Vytvorte a inicializujte premenné `blood_type`, `insurance_code` a `allergic_to_paracetamol` a vypíšte ich dátové typy.",
   "id": "10ec6ad2660658fa"
  },
  {
   "metadata": {},
   "cell_type": "code",
   "outputs": [],
   "execution_count": null,
   "source": [
    "blood_type = \"A+\"\n",
    "insurance_code = 25\n",
    "allergic_to_paracetamol = True\n",
    "\n",
    "print(type(blood_type), type(insurance_code), type(allergic_to_paracetamol))"
   ],
   "id": "84b5a62e812a1e3c"
  },
  {
   "metadata": {},
   "cell_type": "markdown",
   "source": [
    "---\n",
    "\n",
    "## **3. Operátory**\n",
    "Operátory sú použiteľné štandardne, alebo ako funkcie (potrebné importovaqť modul operator) - [Dokumentácia operator](https://docs.python.org/3/library/operator.html)\n",
    "\n",
    "Python podporuje:\n",
    "- **Aritmetické operátory:** `+`, `-`, `*`, `/`, `//`, `%`, `**`\n",
    "- **Porovnávacie operátory:** `==`, `!=`, `>`, `<`, `>=`, `<=`\n",
    "- **Logické operátory:** `and`, `or`, `not` - pozor na typy, ktoré porovnávate (napr. bool a int)\n",
    "\n",
    "**Príklad:**"
   ],
   "id": "323b00eab2bbe070"
  },
  {
   "metadata": {},
   "cell_type": "code",
   "outputs": [],
   "execution_count": null,
   "source": [
    "# arithmetic operations\n",
    "x, y = 10, 3\n",
    "print(x + y, x * y, x > y, x and y)\n",
    "\n",
    "# comparison operations\n",
    "print(\"Is x smaller than y?: \", x < y)\n",
    "\n",
    "import operator\n",
    "compare = operator.ge(x, y) # greater or equal\n",
    "print(\"Is x greater or equal to y?:\", compare)\n",
    "\n",
    "# logical operations\n",
    "is_allergic = True\n",
    "is_true = is_allergic or 0\n",
    "print(\"Value of is_true:\", is_true)\n",
    "print(\"Operator sign comparison: \", is_true & False)"
   ],
   "id": "3bf34bc62bf158e1"
  },
  {
   "metadata": {},
   "cell_type": "markdown",
   "source": "**Úloha:** Vytvorte premenné `a = 20`, `b = 5` a vypočítajte súčet, rozdiel a ich podiel.",
   "id": "2d7fc77a4d5423f3"
  },
  {
   "metadata": {},
   "cell_type": "code",
   "outputs": [],
   "execution_count": null,
   "source": [
    "a = 20\n",
    "b = 5\n",
    "print(x + y, x - y, x / y)"
   ],
   "id": "a8f9ca110ee51dd0"
  },
  {
   "metadata": {},
   "cell_type": "markdown",
   "source": [
    "---\n",
    "\n",
    "## **4. Podmienky**\n",
    "### Kľúčové vlastnosti:\n",
    "- Používame `if`, `elif`, `else` na riadenie toku programu.\n",
    "- Kód v jednotlivých vetvách sú oddelené odsadením.\n",
    "\n",
    "**Príklad:**"
   ],
   "id": "db8670b7c5fa7f03"
  },
  {
   "metadata": {},
   "cell_type": "code",
   "outputs": [],
   "execution_count": null,
   "source": [
    "age = 18\n",
    "if age < 18:\n",
    "    print(\"You are a minor.\")\n",
    "elif age == 18:\n",
    "    print(\"You have just become an adult.\")\n",
    "else:\n",
    "    print(\"You are an adult.\")"
   ],
   "id": "a8c1152bf233e61e"
  },
  {
   "metadata": {},
   "cell_type": "markdown",
   "source": "**Úloha:** Napíšte kód, ktorý skontroluje, či je číslo párne alebo nepárne a overte ho použitím rôznych čísel. - [Dokumentácia expressions (modulo)](https://docs.python.org/3/reference/expressions.html)\n",
   "id": "6801ad8302f39da4"
  },
  {
   "metadata": {},
   "cell_type": "code",
   "outputs": [],
   "execution_count": null,
   "source": [
    "num = 9\n",
    "if num % 2 == 0:\n",
    "    print(\"Even\")\n",
    "else:\n",
    "    print(\"Odd\")"
   ],
   "id": "dc96b2bfc7f02a9f"
  },
  {
   "metadata": {},
   "cell_type": "markdown",
   "source": [
    "---\n",
    "\n",
    "## **5. Cykly**\n",
    "- `for` cyklus pre iteráciu cez zoznamy a sekvencie.\n",
    "- `while` cyklus na opakovanie, kým je podmienka splnená.\n",
    "- Použitie `break` a `continue` je rovnaké ako v iných programovacích jazykoch\n",
    "- Použitie `else` - Táto vetva obsahuje príkazy, ktoré sa majú vykonať po vykonaní cyklu, ak nebol ukončený pomocou `break`\n",
    "- Pri `for` cykle je potrebné vytvoriť iterovateľný objekt - napr. sekvenciu čísel, zoznam, slovník, množinu, alebo iný iterovateľný objekt\n",
    "    - Funkcia `range` - sekvencia čísel - [Dokumentácia range](https://docs.python.org/3/library/functions.html#func-range)\n",
    "    - Funkcia `len` - dlžka zoznamu - [Dokumentácia len](https://docs.python.org/3/library/functions.html#len)\n",
    "\n",
    "\n",
    "**Príklad:**"
   ],
   "id": "f3553ec167b434b2"
  },
  {
   "metadata": {},
   "cell_type": "code",
   "outputs": [],
   "execution_count": null,
   "source": [
    "for i in range(5):\n",
    "    print(i)"
   ],
   "id": "8890f6c71fd434b6"
  },
  {
   "metadata": {},
   "cell_type": "markdown",
   "source": "**Úloha:** Napíšte program, ktorý vypíše čísla od 10 do 1. Použite `for` cyklus a funkciu `range`.",
   "id": "cd2209bb23d28435"
  },
  {
   "metadata": {},
   "cell_type": "code",
   "outputs": [],
   "execution_count": null,
   "source": [
    "for i in range(10, 0, -1):\n",
    "    print(i)"
   ],
   "id": "8438fe3f19200b97"
  },
  {
   "metadata": {},
   "cell_type": "markdown",
   "source": [
    "---\n",
    "\n",
    "## **6. Funkcie**\n",
    "- Definujeme ich pomocou kľúčového slova `def` a odsadením tela funkcie.\n",
    "- Môžu mať parametre a návratové hodnoty.\n",
    "- Parametrom funkcie sa môže ale nemusí definovať typ\n",
    "- Voliteľné parametre majú predvolenú hodnotu, ktorá sa nastaví, ak hodnota parametra nie je definovaná\n",
    "- Dokumentačné komentáre sa nachádzajú pod definíciou (vo vnútri triedy/funkcie) - označené `\"\"\"`\n",
    "\n",
    "\n",
    "- **Príklad:**"
   ],
   "id": "975b0eda5a1cb765"
  },
  {
   "metadata": {},
   "cell_type": "code",
   "outputs": [],
   "execution_count": null,
   "source": [
    "# age is optional\n",
    "def greet(name, age = -1):\n",
    "    # documentation comment\n",
    "    \"\"\"Function to greet a person.\"\"\"\n",
    "    print(\"Name:\", name, \"\\tAge: \", age)\n",
    "\n",
    "# function call\n",
    "greet(\"Alice\")\n",
    "greet(\"Benjamin\", 22)"
   ],
   "id": "d27b5d862c312a71"
  },
  {
   "metadata": {},
   "cell_type": "markdown",
   "source": "**Úloha:** Napíšte funkciu, ktorá vypočíta a vráti druhú mocninu čísla. Použite voliteľný parameter pre zmenu exponentu. - [Dokumentácia functions](https://docs.python.org/3/tutorial/controlflow.html#defining-functions), [Dokumentácia pow](https://docs.python.org/3/library/functions.html#pow)",
   "id": "ac8bf0817b442c6"
  },
  {
   "metadata": {},
   "cell_type": "code",
   "outputs": [],
   "execution_count": null,
   "source": [
    "def power(x, exp = 2):\n",
    "    return x ** exp\n",
    "\n",
    "print(power(2))\n",
    "print(power(2, 3))"
   ],
   "id": "bf43e282e05f6304"
  },
  {
   "metadata": {},
   "cell_type": "markdown",
   "source": [
    "---\n",
    "\n",
    "## **7. Údajové štruktúry**\n",
    "- Základné štruktúry:\n",
    "    - list (`[]`)\n",
    "    - dictionary (`{kľúč : hodnota}`)\n",
    "    - set (`{}`)\n",
    "    - tuple (`()`)\n",
    "- [Dokumentacia datastructures](https://docs.python.org/3/tutorial/datastructures.html)\n",
    "\n",
    "**List (Zoznam):**\n",
    "\n",
    "- Definícia - pomocou `[]`\n",
    "- Uchováva poradie prvkov.\n",
    "- Prvky v liste sú indexované - každý prvok má priradený index (začínajúci od 0) na identifikáciu jeho pozície v zozname.\n",
    "- Je `mutable` - jeho prvky môžu byť menené.\n",
    "\n",
    "**Dictionary (Slovník):**\n",
    "\n",
    "- Definícia - pomocou `{}` a kľúčov - `kľúč : hodnota`\n",
    "- Uchováva dáta v pároch kľúč-hodnota podobne ako objekty JSON.\n",
    "- Kľúče musia byť jedinečné a sú hashovateľné.\n",
    "- Poradie prvkov je zachované tak, ako boli vložené (od verzie 3.7).\n",
    "- Tiež je `mutable`.\n",
    "\n",
    "**Set (Množina):**\n",
    "\n",
    "- Definícia - pomocou `{}`\n",
    "- Obsahuje **jedinečné prvky**, žiadne duplikáty.\n",
    "- Prvky nie sú indexované, nie je možné ich získať pomocou indexu, nie je usporiadaná.\n",
    "- Je `mutable` a môže sa použiť na vykonávanie matematických operácií množín, ako sú zjednotenie, prienik, rozdiel atď.\n",
    "\n",
    "**Tuple (N-tica):**\n",
    "\n",
    "- Definícia - pomocou `()`\n",
    "- Uchováva poradie prvkov.\n",
    "- Prvky sú indexované a každý prvok má svoj unikátny index.\n",
    "- Je `immutable` (nemeniteľná) - jeho prvky nemôžu byť po vytvorení zmenené.\n",
    "- Môže obsahovať rôzne dátové typy.\n",
    "\n",
    "**Príklad:**"
   ],
   "id": "97c11ca08776b2a1"
  },
  {
   "metadata": {},
   "cell_type": "code",
   "outputs": [],
   "execution_count": null,
   "source": [
    "# list\n",
    "numbers = [1, 2, 3, 4, 5]\n",
    "print(\"First element of the list:\", numbers[0])  # Accessing elements of the list by index\n",
    "numbers = numbers + [6, 7, 8]  # Adding elements to the list\n",
    "\n",
    "# dictionary\n",
    "person = {'name': 'Alice', 'age': 30, 'city': 'New York'}\n",
    "print(\"Name:\", person['name'])\n",
    "person['city'] = 'Los Angeles'  # Changing value of the key 'city'\n",
    "person['blood_type'] = 'A+'  # Adding new key-value pair\n",
    "\n",
    "# set\n",
    "medical_treatment = {'paracetamol', 'ibuprofen', 'aspirin'}\n",
    "print(\"Medical treatments:\", medical_treatment)\n",
    "medical_treatment.add('antibiotics')  # Adding new element to the set\n",
    "\n",
    "# tuples\n",
    "coordinates = (10, 20, \"aaa\")\n",
    "print(\"Coordinates:\", coordinates)\n",
    "print(\"Coordinate x:\", coordinates[0])"
   ],
   "id": "6a07d4cd0d5e99b7"
  },
  {
   "metadata": {},
   "cell_type": "markdown",
   "source": "**Úloha:** Vytvorte zoznam `patients` s údajmi o pacientoch (meno, vek, diagnóza). Vypíšte vek pacienta s indexom 2.\n",
   "id": "edd2f0f9ac0e96a3"
  },
  {
   "metadata": {},
   "cell_type": "code",
   "outputs": [],
   "execution_count": null,
   "source": [
    "patients = [\n",
    "    {\"name\": \"Alice\", \"age\": 25, \"diagnosis\": \"Diabetes\"},\n",
    "    {\"name\": \"Bob\", \"age\": 30, \"diagnosis\": \"Asthma\"},\n",
    "    {\"name\": \"Charlie\", \"age\": 35, \"diagnosis\": \"Hypertension\"}\n",
    "]\n",
    "\n",
    "print(patients[2][\"age\"])"
   ],
   "id": "812860a1d22bd373"
  },
  {
   "metadata": {},
   "cell_type": "markdown",
   "source": [
    "---\n",
    "\n",
    "## **8. Práca so súbormi**\n",
    "### Čítanie a zápis do súborov:\n",
    "- Pri otvorení súboru je potrebné definovať mód otvorenia - určuje, ako bude súbor použitý (čítanie, zápis, pridávanie do existujúceho súboru, atď.).\n",
    "    - 'w' pre zápis (vytvorenie súboru, prípadne prepis existujúceho súboru)\n",
    "    - 'r' pre čítanie\n",
    "    - 'a' pre pridávanie (zápis na koniec existujúceho súboru (append)).\n",
    "\n",
    "- Použitie `with` klauzuly (kontextový manažér) - [Dokumentácia input/output](https://docs.python.org/3/tutorial/inputoutput.html)\n",
    "    - Pomáha spravovať súbory, automatizuje zatvorenie súboru po tom, čo je blok kódu pod klauzulou with dokončený. (aj pri vyhodení výnimky)\n",
    "    - Znižuje riziko zanechania otvoreného súboru, čo by mohlo viesť k únikom pamäti alebo iným problémom.\n",
    "\n",
    "\n",
    "**Príklad:**"
   ],
   "id": "e4ae0fea94032aea"
  },
  {
   "metadata": {},
   "cell_type": "code",
   "outputs": [],
   "execution_count": null,
   "source": [
    "# writing to a file\n",
    "with open(\"data/example.csv\", \"w+\") as file:\n",
    "    file.write(\"patient_id,name,age,diagnosis\\n\") # writing a header\n",
    "\n",
    "# reading from a file\n",
    "with open('data/example.csv', 'r') as file:\n",
    "    contents = file.read()\n",
    "    print(\"File contents:\", contents)"
   ],
   "id": "2f71ec549856391a"
  },
  {
   "metadata": {},
   "cell_type": "markdown",
   "source": "**Úloha:** Otvorte súbor `example.csv`v móde \"append\" a zapíšte do neho údaje o troch pacientoch. (Údaje vymyslite)",
   "id": "9e2d32b2ffc15ce1"
  },
  {
   "metadata": {},
   "cell_type": "code",
   "outputs": [],
   "execution_count": null,
   "source": [
    "with open(\"data/example.csv\", \"a\") as file:\n",
    "    file.write(\"1,John,25,Diabetes\\n\")\n",
    "    file.write(\"2,Alice,30,Hypertension\\n\")\n",
    "    file.write(\"3,Bob,35,Asthma\\n\")\n"
   ],
   "id": "7775acdab270b19b"
  },
  {
   "metadata": {},
   "cell_type": "markdown",
   "source": [
    "---\n",
    "## **9. Moduly**\n",
    "- Modulom môže byť akýkoľvek vlastný .py skript\n",
    "- Importuje sa do projektu použitím kĺúčového slova `import`\n",
    "- Pri importovaní modulu je možné priradiť mu alias - skratku, ktorá sa používa ďalej v skripte na zavolanie funkcií alebo metód tried modulu (napr. `import my_module as mod`)\n",
    "- Možnosť importovať len konkrétne objekty/funkcie z knižnice (napr. `from my_module import module_foo`)\n",
    "\n",
    "**Vytvorenie modulu**\n",
    "- Python skript (my_module.py)\n",
    "\n",
    "**Príklad:**"
   ],
   "id": "28271d4c8944d85a"
  },
  {
   "metadata": {},
   "cell_type": "code",
   "outputs": [],
   "execution_count": null,
   "source": [
    "import my_module\n",
    "\n",
    "my_module.module_foo()"
   ],
   "id": "b4fa256a7621fc28"
  },
  {
   "metadata": {},
   "cell_type": "markdown",
   "source": "**Úloha:** Vytvorte vlastný modul a importujte ho do projektu s aliasom.",
   "id": "82728a30235a56bd"
  },
  {
   "metadata": {},
   "cell_type": "code",
   "outputs": [],
   "execution_count": null,
   "source": [
    "import second_module as sm\n",
    "\n",
    "sm.module_foo2()"
   ],
   "id": "14eab222a3b2b8b0"
  },
  {
   "metadata": {},
   "cell_type": "markdown",
   "source": [
    "---\n",
    "## **10. Ošetrovanie výnimiek**\n",
    "- Pri ošetrovaní výnimiek sa používa `try-except` blok - [Dokumentácia errors](https://docs.python.org/3/tutorial/errors.html)\n",
    "- Príklady základných typov výnimiek:\n",
    "    - TypeError: vykonanie operácie s nekompatibilným typom (sčítanie reťazca a čísla)\n",
    "    - IndexError: pristúpenie k prvku zoznamu pomocou indexu, ktorý je mimo rozsah\n",
    "    - KeyError: pristúpenie k hodnote v slovníku pomocou kľúča, ktorý neexistuje\n",
    "    - ValueError: funkcia dostane argument s nevhodnou hodnotou\n",
    "    - NameError: použitie nedefinovanej premennej\n",
    "    - FileNotFoundError: pokus o otvorenie neexistujúceho súboru\n",
    "    - ZeroDivisionError: delenie čísla nulou\n",
    "\n",
    "**Príklad:**"
   ],
   "id": "acd6312720eeea84"
  },
  {
   "metadata": {},
   "cell_type": "code",
   "outputs": [],
   "execution_count": null,
   "source": [
    "# undefined_variable = 5\n",
    "\n",
    "try:\n",
    "    print(undefined_variable)\n",
    "except NameError as e:\n",
    "    print(\"Error:\", e)"
   ],
   "id": "9bdd4361bef47c62"
  },
  {
   "metadata": {},
   "cell_type": "markdown",
   "source": "**Úloha:** Ošetrite výnimku pri delení čísla nulou.",
   "id": "bab0dc7915380266"
  },
  {
   "metadata": {},
   "cell_type": "code",
   "outputs": [],
   "execution_count": null,
   "source": [
    "num = 3\n",
    "\n",
    "try:\n",
    "    num / 0\n",
    "except ZeroDivisionError as e:\n",
    "    print(\"Error:\", e)"
   ],
   "id": "5a726d6025200a65"
  },
  {
   "metadata": {},
   "cell_type": "markdown",
   "source": [
    "---\n",
    "## **11. Práca s obrázkami**\n",
    "Na prácu s obrázkami sa používajú knižnice, napr. pillow (PIL) - [Dokumentácia Image](https://pillow.readthedocs.io/en/stable/reference/Image.html)\n",
    "- Základnými operáciami pre prácu s obrázkami sú načítanie a uloženie (open/save)\n",
    "- Knižnice ponúkajú rôzne možnosti transformácie obrazu, napr. prevod na odtiene šedej (hodnoty 0-255) - funkcia convert [Dokumentácia convert](https://www.codecademy.com/resources/docs/pillow/image/convert)\n",
    "- Normalizácia obrazu (prevod na hodnoty 0-1) je prospešná pre strojové učenie\n",
    "- Knižnice ponúkajú množstvo ďalších úprav (rotácie, orezanie, zmena veľkosti, pridanie filtrov, atď.) - všetky operácie sú vždy dostupné v dokumentácii knižnice\n",
    "\n",
    "**Príklad:**"
   ],
   "id": "91dd4ee48fd77551"
  },
  {
   "metadata": {},
   "cell_type": "code",
   "outputs": [],
   "execution_count": null,
   "source": [
    "# pip install pillow\n",
    "from PIL import Image\n",
    "img = Image.open(\"data/microscope.jpg\")\n",
    "gray_img = img.convert(\"L\")\n",
    "gray_img.save(\"data/microscope_g.jpg\")"
   ],
   "id": "e7a2fb6f3cad0b09"
  },
  {
   "metadata": {},
   "cell_type": "markdown",
   "source": "**Úloha:** Otvorte obrázok `microscope_g.jpg`, otočte ho o 90° a uložte. Použite funkciu rotate - [Dokumentácia rotate](https://www.codecademy.com/resources/docs/pillow/image/rotate)",
   "id": "331d15eb6df9ecae"
  },
  {
   "metadata": {},
   "cell_type": "code",
   "outputs": [],
   "execution_count": null,
   "source": [
    "img = Image.open(\"data/microscope.jpg\")\n",
    "gray_img = img.rotate(90)\n",
    "gray_img.save(\"data/microscope_g_rotated.jpg\")"
   ],
   "id": "84005f3b6d1b4be0"
  },
  {
   "metadata": {},
   "cell_type": "markdown",
   "source": [
    "---\n",
    "\n",
    "## **12. OOP v Pythone**\n",
    "- Triedy definujeme pomocou `class`.\n",
    "- Používame konštruktor `__init__`.\n",
    "- Prístup k atribútom triedy je pomocou `self`.\n",
    "- Metódy triedy majú ako prvý parameter `self`.\n",
    "- Metódy triedy sa volajú na inštancii triedy.\n",
    "- Atribúty triedy sú definované v konštruktore.\n",
    "- Metódy triedy sú definované v rámci triedy.\n",
    "- Prístup k atribútom triedy je pomocou `.`.\n",
    "- Vytvorenie inštancie triedy - `object = ClassName()`.\n",
    "- Dedičnosť - trieda môže dediť od inej triedy.\n",
    "- Trieda môže byť abstraktná - nemôže byť inštanciovaná, ale môže byť použitá ako základ pre iné triedy.\n",
    "- Polymorfizmus - triedy môžu mať metódy s rovnakým názvom, ale s rôznou implementáciou.\n",
    "- Encapsulácia - skrytie atribútov triedy pred priamym prístupom zvonku.\n",
    "- Private atribúty a metódy - začínajú dvojitým podčiarkovníkom `__`.\n",
    "\n",
    "**Príklad:**"
   ],
   "id": "e6fec37349266d52"
  },
  {
   "metadata": {},
   "cell_type": "code",
   "outputs": [],
   "execution_count": null,
   "source": [
    "class Patient:\n",
    "    def __init__(self, name, age, diagnosis):\n",
    "        self.name = name\n",
    "        self.age = age\n",
    "        self.diagnosis = diagnosis\n",
    "\n",
    "    def __check_if_info_is_defined(self):\n",
    "        if self.name and self.age and self.diagnosis:\n",
    "            return True\n",
    "        return False\n",
    "\n",
    "    def display_info(self):\n",
    "        if self.__check_if_info_is_defined():\n",
    "            print(f\"Patient: {self.name}, Age: {self.age}, Diagnosis: {self.diagnosis}\")\n",
    "        else:\n",
    "            print(\"Some of the information is undefined.\")\n",
    "\n",
    "p1 = Patient(\"Anna\", 30, \"Diabetes\")\n",
    "p2 = Patient(\"Peter\", 25, None)\n",
    "p1.display_info()\n",
    "p2.display_info()"
   ],
   "id": "95cc57e6df45f225"
  },
  {
   "metadata": {},
   "cell_type": "markdown",
   "source": "**Úloha:** Vytvorte triedu `Doctor` s atribútmi `name`, `specialization` a `patients`. Vytvorte metódu `add_patient`, ktorá pridá pacienta do zoznamu pacientov. - [Dokumentácia classes](https://docs.python.org/3/tutorial/classes.html). Pridajte pacientov p1 a p2 do zoznamu a vypíšte zoznam pacientov.",
   "id": "671e8017e3ae70f7"
  },
  {
   "metadata": {},
   "cell_type": "code",
   "outputs": [],
   "execution_count": null,
   "source": [
    "# TODO\n",
    "\n",
    "class Doctor:\n",
    "    def __init__(self, name, specialization):\n",
    "        self.name = name\n",
    "        self.specialization = specialization\n",
    "        self.patients = []\n",
    "\n",
    "    def add_patient(self, patient):\n",
    "        self.patients.append(patient)\n",
    "\n",
    "    def display_patients(self):\n",
    "        print(\"Patients of doctor\", self.name)\n",
    "        for patient in self.patients:\n",
    "            print(patient.name)\n",
    "\n",
    "d = Doctor(\"John\", \"Cardiologist\")\n",
    "d.add_patient(p1)\n",
    "d.add_patient(p2)\n",
    "d.display_patients()"
   ],
   "id": "8322d5ed593a8f27"
  },
  {
   "metadata": {},
   "cell_type": "markdown",
   "source": [
    "---\n",
    "\n",
    "## **13. Lambda funkcie**\n",
    "\n",
    "- Lambda funkcie sú anonymné funkcie, definované pomocou kľúčového slova lambda - [Dokumentácia lambda](https://docs.python.org/3/reference/expressions.html#lambda)\n",
    "- Môže mať ľubovoľný počet argumentov, a obsahuje výraz alebo list výrazov, ktorý je vyhodnotený a vrátený\n",
    "- Forma zápisu je `lambda arguments: expression`\n",
    "- Používa sa na definovanie jednoduchých funkcií, ktoré sa používajú len raz\n",
    "- Môže byť použitá spoločne s funkciami `map`, `filter`, `reduce`\n",
    "- Môže obsahovať podmienky a cykly\n",
    "\n",
    "**Príklad:**"
   ],
   "id": "317e69506a98bc85"
  },
  {
   "metadata": {},
   "cell_type": "code",
   "outputs": [],
   "execution_count": null,
   "source": [
    "# Lambda function to calculate square of a number\n",
    "square = lambda x: x**2\n",
    "\n",
    "print(\"Square of 5 using lambda function:\", square(5))"
   ],
   "id": "fcd032ec21d508e4"
  },
  {
   "metadata": {},
   "cell_type": "markdown",
   "source": "**Úloha:** Vytvorte lambda funkciu s podmienkou (`if-else`), ktorá vráti text `even` alebo `odd`, podľa toho, čí je číslo párne alebo nepárne. Použitie podmienky v lambda funkcii má formu `lambda arguments: true_return_expression if condition else false_return_expression`.",
   "id": "4823280995f1ba99"
  },
  {
   "metadata": {},
   "cell_type": "code",
   "outputs": [],
   "execution_count": null,
   "source": "even_odd = lambda x: \"even\" if x % 2 == 0 else \"odd\"",
   "id": "f4ef3586b08776fe"
  },
  {
   "metadata": {},
   "cell_type": "markdown",
   "source": [
    "---\n",
    "## **14. Mapovanie, Filtrovanie a Redukcia**\n",
    "\n",
    "- Tieto fukcie sa používajú pri spracovaní kolekcií, ako sú zoznamy, slovníky, množiny, atď., podobne ako v jazyku Matlab.\n",
    "+ **`map`** - [Dokumentácia map](https://docs.python.org/3/library/functions.html#map)\n",
    "    - Aplikuje danú funkciu na každý prvok iterovateľného objektu (napr. zoznam) a vracia iterátor s výsledkami\n",
    "    - napr. použitie s lambda funkciou na výpočet štvorca každého čísla v zozname numbers\n",
    "+ **`filter`** - [Dokumentácia filter](https://docs.python.org/3/library/functions.html#filter)\n",
    "    - Odfiltruje prvky iterovateľného objektu, ponechávajúc len tie, pre ktoré funkcia vráti True\n",
    "    - napr. lambda funkcia s vyselektovanie len párnych čísel zo zoznamu numbers\n",
    "+ **`reduce`** - [Dokumentácia reduce](https://docs.python.org/3/library/functools.html)\n",
    "    - Postupne aplikuje funkciu na prvky iterovateľného objektu, znižuje ich na jediný výsledok\n",
    "    - napr. funkcia reduce z modulu functools s lambda funkciou na výpočet súčinu všetkých čísel v zozname numbers\n",
    "\n",
    "**Príklad:**"
   ],
   "id": "5b03830d446d7dc0"
  },
  {
   "metadata": {},
   "cell_type": "code",
   "outputs": [],
   "execution_count": null,
   "source": [
    "# map function\n",
    "numbers = [1, 2, 3, 4, 5]\n",
    "\n",
    "squared_numbers = list(map(lambda x: x**2, numbers))\n",
    "print(\"Squared numbers:\", squared_numbers)\n",
    "\n",
    "# filter function\n",
    "even_numbers = list(filter(lambda x: x % 2 == 0, numbers))\n",
    "print(\"Even numbers:\", even_numbers)\n",
    "\n",
    "# reduce function\n",
    "from functools import reduce\n",
    "product = reduce(lambda x, y: x * y, numbers)\n",
    "print(\"Product of numbers:\", product)"
   ],
   "id": "f77bb2fdaac807e3"
  },
  {
   "metadata": {},
   "cell_type": "markdown",
   "source": "**Úloha:** Vytvorte zoznam `ages` s vekmi pacientov. Použite funkciu `filter` a lambda funkciu na vyselektovanie pacientov vo veku 18-65 rokov.",
   "id": "e601c07a1c99a1c9"
  },
  {
   "metadata": {},
   "cell_type": "code",
   "outputs": [],
   "execution_count": null,
   "source": [
    "ages = [12, 25, 32, 45, 70]\n",
    "adults = list(filter(lambda x: 18 <= x <= 65, ages))\n",
    "print(\"Adults:\", adults)"
   ],
   "id": "10acdd872589b528"
  },
  {
   "metadata": {},
   "cell_type": "markdown",
   "source": [
    "---\n",
    "\n",
    "## **15. Práca s DataFrame (Pandas)**\n",
    "Použitie knižnice `pandas` na spracovanie tabuliek - [Dokumentácia DataFrame](https://pandas.pydata.org/docs/reference/api/pandas.DataFrame.html)\n",
    "- Dataframe je dvojrozmerná dátová štruktúra (tabuľka) v knižnici Pandas, vhodná pre spracovanie textových a číselných datasetov\n",
    "- Práca so štruktúrovanými dátami\n",
    "- Využitie štruktúry DataFrame je vhodné najmä kvôli efektívnej implementácii rôznych operácií nad dátami\n",
    "- Základné vlastnosti DataFrame:\n",
    "    - Môže obsahovať heterogénne údaje - čísla, reťazce, objekty, ..\n",
    "    - Podporuje aritmetické operácie na riadkoch a stĺpcoch\n",
    "    - Umožňuje jednoduché zlučovanie, spájanie, filtrácia dát, atď.\n",
    "\n",
    "**Príklad:**"
   ],
   "id": "7fb0a469b022912e"
  },
  {
   "metadata": {},
   "cell_type": "code",
   "outputs": [],
   "execution_count": null,
   "source": [
    "import pandas as pd\n",
    "\n",
    "# create DataFrame from dictionary\n",
    "data = {\n",
    "    'name': ['Christina', 'Jan', 'Peter', 'Adam'],\n",
    "    'age': [28, 15, 29, 67],\n",
    "    'city': ['New York', 'Los Angeles', 'Chicago', 'Boston']\n",
    "}\n",
    "df = pd.DataFrame(data)\n",
    "\n",
    "# show dataframe\n",
    "print(df)"
   ],
   "id": "402ea23c64c87988"
  },
  {
   "metadata": {},
   "cell_type": "markdown",
   "source": "**Úloha:** Vytvorte DataFrame s dátami zo súboru `data/example.csv`. Pre vytvorenie DataFrame priamo z csv súboru použite funkciu read_csv - [Dokumentácia read_csv](https://pandas.pydata.org/docs/reference/api/pandas.read_csv.html). Použite funkciu `describe` na zobrazenie štatistík dát - [Dokumentácia describe](https://pandas.pydata.org/docs/reference/api/pandas.DataFrame.describe.html).",
   "id": "f080984e7e0486ba"
  },
  {
   "metadata": {},
   "cell_type": "code",
   "outputs": [],
   "execution_count": null,
<<<<<<< HEAD
   "source": "# TODO",
=======
   "source": "# TODO ",
>>>>>>> origin/master
   "id": "8f96bbb146222477"
  },
  {
   "metadata": {},
   "cell_type": "markdown",
   "source": [
    "---\n",
    "\n",
    "### **Zhrnutie**\n",
    "- Python je jednoduchý jazyk vhodný na spracovanie dát.\n",
    "- Poskytuje množstvo knižníc na spracovanie dát, strojové učenie, vizualizáciu, atď.\n",
    "\n",
    "##### Referencie\n",
    "\n",
    "https://docs.python.org/3.12/tutorial/index.html\n",
    "\n",
    "https://python.input.sk/z/01.html\n",
    "\n",
    "https://unsplash.com/photos/a-close-up-of-a-section-of-a-humans-stomach-Q2PkRn63Oug"
   ],
   "id": "36f8b07beb289df2"
  }
 ],
 "metadata": {
  "kernelspec": {
   "display_name": "Python 3",
   "language": "python",
   "name": "python3"
  },
  "language_info": {
   "codemirror_mode": {
    "name": "ipython",
    "version": 2
   },
   "file_extension": ".py",
   "mimetype": "text/x-python",
   "name": "python",
   "nbconvert_exporter": "python",
   "pygments_lexer": "ipython2",
   "version": "2.7.6"
  }
 },
 "nbformat": 4,
 "nbformat_minor": 5
}
